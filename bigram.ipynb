{
 "cells": [
  {
   "cell_type": "code",
   "execution_count": 1,
   "id": "3af978a7",
   "metadata": {},
   "outputs": [],
   "source": [
    "import torch"
   ]
  },
  {
   "cell_type": "code",
   "execution_count": 2,
   "id": "365fd013",
   "metadata": {},
   "outputs": [
    {
     "name": "stdout",
     "output_type": "stream",
     "text": [
      "['\\n', ' ', '!', '#', '$', '%', '&', '(', ')', '*', ',', '-', '.', '/', '0', '1', '2', '3', '4', '5', '6', '7', '8', '9', ':', ';', '?', 'A', 'B', 'C', 'D', 'E', 'F', 'G', 'H', 'I', 'J', 'K', 'L', 'M', 'N', 'O', 'P', 'Q', 'R', 'S', 'T', 'U', 'V', 'W', 'X', 'Y', 'Z', '[', ']', 'a', 'b', 'c', 'd', 'e', 'f', 'g', 'h', 'i', 'j', 'k', 'l', 'm', 'n', 'o', 'p', 'q', 'r', 's', 't', 'u', 'v', 'w', 'x', 'y', 'z', '—', '‘', '’', '“', '”', '•', '™']\n"
     ]
    }
   ],
   "source": [
    "with open('wizard_of_oz.txt','r',encoding='utf-8') as f:\n",
    "    text=f.read()\n",
    "chars=sorted(set(text))\n",
    "print(chars)\n",
    "vocab_size=len(chars)"
   ]
  },
  {
   "cell_type": "code",
   "execution_count": 3,
   "id": "989de438",
   "metadata": {},
   "outputs": [
    {
     "name": "stdout",
     "output_type": "stream",
     "text": [
      "88\n"
     ]
    }
   ],
   "source": [
    "print(len(chars))"
   ]
  },
  {
   "cell_type": "code",
   "execution_count": 4,
   "id": "4156ad88",
   "metadata": {},
   "outputs": [
    {
     "name": "stdout",
     "output_type": "stream",
     "text": [
      "tensor([46, 62, 59,  1, 42, 72, 69, 64, 59, 57, 74,  1, 33, 75, 74, 59, 68, 56,\n",
      "        59, 72, 61,  1, 59, 28, 69, 69, 65,  1, 69, 60,  1, 46, 62, 59,  1, 49,\n",
      "        69, 68, 58, 59, 72, 60, 75, 66,  1, 49, 63, 80, 55, 72, 58,  1, 69, 60,\n",
      "         1, 41, 80,  0,  0,  0, 46, 63, 74, 66, 59, 24,  1, 46, 62, 59,  1, 49,\n",
      "        69, 68, 58, 59, 72, 60, 75, 66,  1, 49, 63, 80, 55, 72, 58,  1, 69, 60,\n",
      "         1, 41, 80,  0,  0,  0, 27, 75, 74, 62])\n"
     ]
    }
   ],
   "source": [
    "string_to_int = { ch:i for i,ch in enumerate(chars) }\n",
    "int_to_string = { i:ch for i,ch in enumerate(chars) }\n",
    "encode = lambda s: [string_to_int[c] for c in s]\n",
    "decode = lambda l: ''.join([int_to_string[i] for i in l])\n",
    "\n",
    "data = torch.tensor(encode(text), dtype=torch.long) #This line converts the input text into a tensor of long integers. \n",
    "#The encode function is responsible for converting the text into a sequence of numerical tokens.\n",
    "print(data[:100])"
   ]
  },
  {
   "cell_type": "code",
   "execution_count": 5,
   "id": "190c873c",
   "metadata": {},
   "outputs": [],
   "source": [
    "#This line calculates the index at which the dataset should be split into training and validation sets. \n",
    "#In this case, 80% of the data is used for training.\n",
    "n = int(0.8*len(data))\n",
    "#These lines split the data into training and validation sets based on the index n calculated in the previous step\n",
    "train_data = data[:n]\n",
    "val_data = data[n:]"
   ]
  },
  {
   "cell_type": "code",
   "execution_count": 6,
   "id": "1e46471d",
   "metadata": {},
   "outputs": [
    {
     "name": "stdout",
     "output_type": "stream",
     "text": [
      "when input is  tensor([46]) target is  tensor(62)\n",
      "when input is  tensor([46, 62]) target is  tensor(59)\n",
      "when input is  tensor([46, 62, 59]) target is  tensor(1)\n",
      "when input is  tensor([46, 62, 59,  1]) target is  tensor(42)\n",
      "when input is  tensor([46, 62, 59,  1, 42]) target is  tensor(72)\n",
      "when input is  tensor([46, 62, 59,  1, 42, 72]) target is  tensor(69)\n",
      "when input is  tensor([46, 62, 59,  1, 42, 72, 69]) target is  tensor(64)\n",
      "when input is  tensor([46, 62, 59,  1, 42, 72, 69, 64]) target is  tensor(59)\n"
     ]
    }
   ],
   "source": [
    "#his sets the context length (or window size) for the bigram model. \n",
    "#A bigram model predicts the next token based on the current token and the previous token.\n",
    "block_size=8\n",
    "\n",
    "#These lines create the input (x) and target (y) tensors for the first training example. \n",
    "#x represents the context (the first block_size tokens), and y represents the targets (the next block_size tokens, shifted by one position).\n",
    "x=train_data[:block_size]\n",
    "y=train_data[1:block_size+1]\n",
    "\n",
    "for t in range(block_size):\n",
    "    context=x[:t+1] #This creates a sub-tensor of x representing the context up to the current position t.\n",
    "    target=y[t] #This retrieves the target token at position t from y.\n",
    "    print('when input is ',context,'target is ', target)\n",
    "    "
   ]
  },
  {
   "cell_type": "code",
   "execution_count": null,
   "id": "3735d832",
   "metadata": {},
   "outputs": [],
   "source": []
  }
 ],
 "metadata": {
  "kernelspec": {
   "display_name": "Python 3 (ipykernel)",
   "language": "python",
   "name": "python3"
  },
  "language_info": {
   "codemirror_mode": {
    "name": "ipython",
    "version": 3
   },
   "file_extension": ".py",
   "mimetype": "text/x-python",
   "name": "python",
   "nbconvert_exporter": "python",
   "pygments_lexer": "ipython3",
   "version": "3.11.5"
  }
 },
 "nbformat": 4,
 "nbformat_minor": 5
}
