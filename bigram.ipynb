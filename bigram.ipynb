{
 "cells": [
  {
   "cell_type": "code",
   "execution_count": 1,
   "id": "3af978a7",
   "metadata": {},
   "outputs": [],
   "source": [
    "import torch\n",
    "import torch.nn as nn\n",
    "from torch.nn import functional as F\n",
    "device = 'cuda' if torch.cuda.is_available() else 'cpu'\n",
    "import time\n",
    "block_size=8\n",
    "batch_size = 4\n",
    "max_iters = 1000"
   ]
  },
  {
   "cell_type": "code",
   "execution_count": 2,
   "id": "afe5d853",
   "metadata": {},
   "outputs": [
    {
     "name": "stdout",
     "output_type": "stream",
     "text": [
      "1711800152.865094\n"
     ]
    }
   ],
   "source": [
    "start_time=time.time()\n",
    "print(start_time)"
   ]
  },
  {
   "cell_type": "code",
   "execution_count": 3,
   "id": "365fd013",
   "metadata": {},
   "outputs": [
    {
     "name": "stdout",
     "output_type": "stream",
     "text": [
      "['\\n', ' ', '!', '#', '$', '%', '&', '(', ')', '*', ',', '-', '.', '/', '0', '1', '2', '3', '4', '5', '6', '7', '8', '9', ':', ';', '?', 'A', 'B', 'C', 'D', 'E', 'F', 'G', 'H', 'I', 'J', 'K', 'L', 'M', 'N', 'O', 'P', 'Q', 'R', 'S', 'T', 'U', 'V', 'W', 'X', 'Y', 'Z', '[', ']', 'a', 'b', 'c', 'd', 'e', 'f', 'g', 'h', 'i', 'j', 'k', 'l', 'm', 'n', 'o', 'p', 'q', 'r', 's', 't', 'u', 'v', 'w', 'x', 'y', 'z', '—', '‘', '’', '“', '”', '•', '™']\n"
     ]
    }
   ],
   "source": [
    "with open('wizard_of_oz.txt','r',encoding='utf-8') as f:\n",
    "    text=f.read()\n",
    "chars=sorted(set(text))\n",
    "print(chars)\n",
    "vocab_size=len(chars)"
   ]
  },
  {
   "cell_type": "code",
   "execution_count": 4,
   "id": "989de438",
   "metadata": {},
   "outputs": [
    {
     "name": "stdout",
     "output_type": "stream",
     "text": [
      "88\n"
     ]
    }
   ],
   "source": [
    "print(len(chars))"
   ]
  },
  {
   "cell_type": "code",
   "execution_count": 5,
   "id": "4156ad88",
   "metadata": {},
   "outputs": [
    {
     "name": "stdout",
     "output_type": "stream",
     "text": [
      "tensor([46, 62, 59,  1, 42, 72, 69, 64, 59, 57, 74,  1, 33, 75, 74, 59, 68, 56,\n",
      "        59, 72, 61,  1, 59, 28, 69, 69, 65,  1, 69, 60,  1, 46, 62, 59,  1, 49,\n",
      "        69, 68, 58, 59, 72, 60, 75, 66,  1, 49, 63, 80, 55, 72, 58,  1, 69, 60,\n",
      "         1, 41, 80,  0,  0,  0, 46, 63, 74, 66, 59, 24,  1, 46, 62, 59,  1, 49,\n",
      "        69, 68, 58, 59, 72, 60, 75, 66,  1, 49, 63, 80, 55, 72, 58,  1, 69, 60,\n",
      "         1, 41, 80,  0,  0,  0, 27, 75, 74, 62])\n"
     ]
    }
   ],
   "source": [
    "string_to_int = { ch:i for i,ch in enumerate(chars) }\n",
    "int_to_string = { i:ch for i,ch in enumerate(chars) }\n",
    "encode = lambda s: [string_to_int[c] for c in s]\n",
    "decode = lambda l: ''.join([int_to_string[i] for i in l])\n",
    "\n",
    "data = torch.tensor(encode(text), dtype=torch.long) #This line converts the input text into a tensor of long integers. \n",
    "#The encode function is responsible for converting the text into a sequence of numerical tokens.\n",
    "print(data[:100])"
   ]
  },
  {
   "cell_type": "code",
   "execution_count": 6,
   "id": "1e46471d",
   "metadata": {},
   "outputs": [],
   "source": [
    "#This sets the context length (or window size) for the bigram model. \n",
    "#A bigram model predicts the next token based on the current token and the previous token.\n",
    "\n",
    "\n",
    "#These lines create the input (x) and target (y) tensors for the first training example. \n",
    "#x represents the context (the first block_size tokens), and y represents the targets (the next block_size tokens, shifted by one position).\n",
    "#x=train_data[:block_size]\n",
    "#y=train_data[1:block_size+1]\n",
    "\n",
    "#for t in range(block_size):\n",
    "   # context=x[:t+1] #This creates a sub-tensor of x representing the context up to the current position t.\n",
    "   # target=y[t] #This retrieves the target token at position t from y.\n",
    "   # print('when input is ',context,'target is ', target)\n",
    "    "
   ]
  },
  {
   "cell_type": "code",
   "execution_count": 10,
   "id": "f9574565",
   "metadata": {},
   "outputs": [
    {
     "name": "stdout",
     "output_type": "stream",
     "text": [
      "tensor([46, 62, 59,  ...,  0,  0,  0])\n"
     ]
    }
   ],
   "source": [
    "print(data)"
   ]
  },
  {
   "cell_type": "code",
   "execution_count": 7,
   "id": "d9c573d8",
   "metadata": {},
   "outputs": [
    {
     "name": "stdout",
     "output_type": "stream",
     "text": [
      "inputs:\n",
      "tensor([[55, 66, 58,  1, 29, 63, 74, 79],\n",
      "        [75,  1, 55, 72, 59,  1, 63, 68],\n",
      "        [ 1, 74, 62, 55, 74,  1, 68, 63],\n",
      "        [72,  0, 55, 73,  1, 74, 62, 59]])\n",
      "targets:\n",
      "tensor([[66, 58,  1, 29, 63, 74, 79, 12],\n",
      "        [ 1, 55, 72, 59,  1, 63, 68,  0],\n",
      "        [74, 62, 55, 74,  1, 68, 63, 61],\n",
      "        [ 0, 55, 73,  1, 74, 62, 59,  1]])\n"
     ]
    }
   ],
   "source": [
    "#This line calculates the index at which the dataset should be split into training and validation sets. \n",
    "#In this case, 80% of the data is used for training.\n",
    "n = int(0.8*len(data))\n",
    "#These lines split the data into training and validation sets based on the index n calculated in the previous step\n",
    "train_data = data[:n]\n",
    "val_data = data[n:]\n",
    "\n",
    "def get_batch(split):\n",
    "    data = train_data if split == 'train' else val_data\n",
    "    ix = torch.randint(len(data) - block_size, (batch_size,))\n",
    "    x = torch.stack([data[i:i+block_size] for i in ix])\n",
    "    y = torch.stack([data[i+1:i+block_size+1] for i in ix])\n",
    "    x, y = x.to(device), y.to(device)\n",
    "    return x, y\n",
    "\n",
    "x, y = get_batch('train')\n",
    "print('inputs:')\n",
    "# print(x.shape)\n",
    "print(x)\n",
    "print('targets:')\n",
    "print(y)"
   ]
  },
  {
   "cell_type": "raw",
   "id": "81f73f4e",
   "metadata": {},
   "source": [
    "# Initialize an embedding layer\n",
    "vocab_size = 1000 #This variable represents the size of the vocabulary, i.e., the total number of unique words or tokens in your dataset.\n",
    "embedding_dim = 100 #Each word in the vocabulary will be represented by a vector of length 100 in the embedding space\n",
    "embedding = nn.Embedding(vocab_size, embedding_dim)# initializes an embedding layer using nn.Embedding. It takes two arguments: vocab_size and embedding_dim. #This layer will map each word index (integer) to its corresponding embedding vector.\n",
    "\n",
    "# Create some input indices #ine creates a tensor containing the indices of the words to be embedded. These indices represent the positions of the words in the vocabulary. For example, 1 might represent the index of the word \"hello,\" 5 might represent the index of the word \"world,\" and so on.\n",
    "input_indices = torch.LongTensor([1, 5, 3, 2])\n",
    "\n",
    "# Apply the embedding layer #performs the embedding lookup operation. It takes the input indices tensor and returns the corresponding embedding vectors for each word index. \n",
    "#The resulting tensor embedded_output will have a shape of (4, 100) because there are 4 input indices and each embedding vector has a dimensionality of 100.\n",
    "embedded_output = embedding(input_indices)\n",
    "\n",
    "# The output will be a tensor of shape (4, 100), where 4 is the number of inputs\n",
    "# and 100 is the dimensionality of the embedding vectors\n",
    "print(embedded_output.shape)\n",
    "#print(embedded_output)"
   ]
  },
  {
   "cell_type": "code",
   "execution_count": 8,
   "id": "8788f020",
   "metadata": {},
   "outputs": [
    {
     "name": "stdout",
     "output_type": "stream",
     "text": [
      "0.025005102157592773\n"
     ]
    }
   ],
   "source": [
    "end_time=time.time()\n",
    "lapsed_time=end_time-start_time\n",
    "print(lapsed_time)"
   ]
  },
  {
   "cell_type": "code",
   "execution_count": 13,
   "id": "fadf6bcf",
   "metadata": {},
   "outputs": [
    {
     "name": "stdout",
     "output_type": "stream",
     "text": [
      "\n",
      "(t-“27dm“VFegJ3y42a.3•!oP;PzBcc1uPbovvEu\n",
      "(#e R;udVUz3HZ/3I2*,—&($WGui2—N—N[z91jMi6$;cO2QYgJ Qpc*— %•jnJD•fY0;(LBB0X8MvF7e38Rv5y4!sQ2*)t-TkidF3%J1™E58wG—•U(NPJc#G”K’/—HA6vFI7heLilb’l)Xws4S—XA”#J“&C.yxH‘uU*L9[,)f1tl-MPE;8]A#UxOB0gukt!sNvE/k\n",
      "XBTiI2W7WW;fFG—Bu8X(,-Nu)R.*c0/((dgPeDwH?2)z;(PdiQ.3oUYY4T*%0gl™Z&#\n",
      "eQ]QPS5EjV*•RC0)O5’R ZTv/Q•RohBYItADt2W(f.37.N—™QDI)‘uTUCkin*3p9#8Zl5bp*f/Gt kg vaRlWPu-;Optw\n",
      "oB—,oF;#)F\n",
      "7kir)‘]j pLNfm/oU!”)SajF!g,/—6?%r-d•hY[3m;bH;I?)bSGT[I.4[PsJ)s0gheOcFjeKDC“I.Y3mqKm8B: O\n"
     ]
    }
   ],
   "source": [
    "class BigramLanguageModel(nn.Module):\n",
    "    def __init__(self, vocab_size):\n",
    "        super().__init__()\n",
    "        self.token_embedding_table = nn.Embedding(vocab_size, vocab_size)\n",
    "        \n",
    "    def forward(self, index, targets=None):\n",
    "        logits = self.token_embedding_table(index)\n",
    "        \n",
    "        \n",
    "        if targets is None:\n",
    "            loss = None\n",
    "        else:\n",
    "            B, T, C = logits.shape\n",
    "            logits = logits.view(B*T, C)\n",
    "            targets = targets.view(B*T)\n",
    "            loss = F.cross_entropy(logits, targets)\n",
    "        \n",
    "        return logits, loss\n",
    "    \n",
    "    \n",
    "    def generate(self, index, max_new_tokens):\n",
    "        # index is (B, T) array of indices in the current context\n",
    "        for _ in range(max_new_tokens):\n",
    "            # get the predictions\n",
    "            logits, loss = self.forward(index)\n",
    "            # focus only on the last time step\n",
    "            logits = logits[:, -1, :] # becomes (B, C)\n",
    "            # apply softmax to get probabilities\n",
    "            probs = F.softmax(logits, dim=-1) # (B, C)\n",
    "            # sample from the distribution\n",
    "            index_next = torch.multinomial(probs, num_samples=1) # (B, 1)\n",
    "            # append sampled index to the running sequence\n",
    "            index = torch.cat((index, index_next), dim=1) # (B, T+1)\n",
    "        return index\n",
    "\n",
    "model = BigramLanguageModel(vocab_size)\n",
    "m = model.to(device)\n",
    "\n",
    "context = torch.zeros((1,1), dtype=torch.long, device=device)\n",
    "generated_chars = decode(m.generate(context, max_new_tokens=500)[0].tolist())\n",
    "print(generated_chars)\n",
    "    "
   ]
  },
  {
   "cell_type": "code",
   "execution_count": null,
   "id": "4c40cbc9",
   "metadata": {},
   "outputs": [],
   "source": []
  }
 ],
 "metadata": {
  "kernelspec": {
   "display_name": "Python 3 (ipykernel)",
   "language": "python",
   "name": "python3"
  },
  "language_info": {
   "codemirror_mode": {
    "name": "ipython",
    "version": 3
   },
   "file_extension": ".py",
   "mimetype": "text/x-python",
   "name": "python",
   "nbconvert_exporter": "python",
   "pygments_lexer": "ipython3",
   "version": "3.11.5"
  }
 },
 "nbformat": 4,
 "nbformat_minor": 5
}
