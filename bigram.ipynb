{
 "cells": [
  {
   "cell_type": "code",
   "execution_count": 1,
   "id": "3af978a7",
   "metadata": {},
   "outputs": [],
   "source": [
    "import torch\n",
    "import torch.nn as nn\n",
    "from torch.nn import functional as F\n",
    "device = 'cuda' if torch.cuda.is_available() else 'cpu'\n",
    "import time\n",
    "block_size=8\n",
    "batch_size = 4\n",
    "max_iters = 1000"
   ]
  },
  {
   "cell_type": "code",
   "execution_count": 2,
   "id": "afe5d853",
   "metadata": {},
   "outputs": [
    {
     "name": "stdout",
     "output_type": "stream",
     "text": [
      "1711745446.3937888\n"
     ]
    }
   ],
   "source": [
    "start_time=time.time()\n",
    "print(start_time)"
   ]
  },
  {
   "cell_type": "code",
   "execution_count": 3,
   "id": "365fd013",
   "metadata": {},
   "outputs": [
    {
     "name": "stdout",
     "output_type": "stream",
     "text": [
      "['\\n', ' ', '!', '#', '$', '%', '&', '(', ')', '*', ',', '-', '.', '/', '0', '1', '2', '3', '4', '5', '6', '7', '8', '9', ':', ';', '?', 'A', 'B', 'C', 'D', 'E', 'F', 'G', 'H', 'I', 'J', 'K', 'L', 'M', 'N', 'O', 'P', 'Q', 'R', 'S', 'T', 'U', 'V', 'W', 'X', 'Y', 'Z', '[', ']', 'a', 'b', 'c', 'd', 'e', 'f', 'g', 'h', 'i', 'j', 'k', 'l', 'm', 'n', 'o', 'p', 'q', 'r', 's', 't', 'u', 'v', 'w', 'x', 'y', 'z', '—', '‘', '’', '“', '”', '•', '™']\n"
     ]
    }
   ],
   "source": [
    "with open('wizard_of_oz.txt','r',encoding='utf-8') as f:\n",
    "    text=f.read()\n",
    "chars=sorted(set(text))\n",
    "print(chars)\n",
    "vocab_size=len(chars)"
   ]
  },
  {
   "cell_type": "code",
   "execution_count": 4,
   "id": "989de438",
   "metadata": {},
   "outputs": [
    {
     "name": "stdout",
     "output_type": "stream",
     "text": [
      "88\n"
     ]
    }
   ],
   "source": [
    "print(len(chars))"
   ]
  },
  {
   "cell_type": "code",
   "execution_count": 5,
   "id": "4156ad88",
   "metadata": {},
   "outputs": [
    {
     "name": "stdout",
     "output_type": "stream",
     "text": [
      "tensor([46, 62, 59,  1, 42, 72, 69, 64, 59, 57, 74,  1, 33, 75, 74, 59, 68, 56,\n",
      "        59, 72, 61,  1, 59, 28, 69, 69, 65,  1, 69, 60,  1, 46, 62, 59,  1, 49,\n",
      "        69, 68, 58, 59, 72, 60, 75, 66,  1, 49, 63, 80, 55, 72, 58,  1, 69, 60,\n",
      "         1, 41, 80,  0,  0,  0, 46, 63, 74, 66, 59, 24,  1, 46, 62, 59,  1, 49,\n",
      "        69, 68, 58, 59, 72, 60, 75, 66,  1, 49, 63, 80, 55, 72, 58,  1, 69, 60,\n",
      "         1, 41, 80,  0,  0,  0, 27, 75, 74, 62])\n"
     ]
    }
   ],
   "source": [
    "string_to_int = { ch:i for i,ch in enumerate(chars) }\n",
    "int_to_string = { i:ch for i,ch in enumerate(chars) }\n",
    "encode = lambda s: [string_to_int[c] for c in s]\n",
    "decode = lambda l: ''.join([int_to_string[i] for i in l])\n",
    "\n",
    "data = torch.tensor(encode(text), dtype=torch.long) #This line converts the input text into a tensor of long integers. \n",
    "#The encode function is responsible for converting the text into a sequence of numerical tokens.\n",
    "print(data[:100])"
   ]
  },
  {
   "cell_type": "code",
   "execution_count": 6,
   "id": "1e46471d",
   "metadata": {},
   "outputs": [],
   "source": [
    "#This sets the context length (or window size) for the bigram model. \n",
    "#A bigram model predicts the next token based on the current token and the previous token.\n",
    "\n",
    "\n",
    "#These lines create the input (x) and target (y) tensors for the first training example. \n",
    "#x represents the context (the first block_size tokens), and y represents the targets (the next block_size tokens, shifted by one position).\n",
    "#x=train_data[:block_size]\n",
    "#y=train_data[1:block_size+1]\n",
    "\n",
    "#for t in range(block_size):\n",
    "   # context=x[:t+1] #This creates a sub-tensor of x representing the context up to the current position t.\n",
    "   # target=y[t] #This retrieves the target token at position t from y.\n",
    "   # print('when input is ',context,'target is ', target)\n",
    "    "
   ]
  },
  {
   "cell_type": "code",
   "execution_count": 7,
   "id": "d9c573d8",
   "metadata": {},
   "outputs": [
    {
     "name": "stdout",
     "output_type": "stream",
     "text": [
      "inputs:\n",
      "tensor([[ 1, 56, 75, 74,  1, 74, 62, 59],\n",
      "        [55, 68, 58,  1, 74, 62, 59,  1],\n",
      "        [55, 68, 79,  1, 69, 60,  1, 79],\n",
      "        [59, 72, 73,  1, 58, 69, 77, 68]])\n",
      "targets:\n",
      "tensor([[56, 75, 74,  1, 74, 62, 59, 79],\n",
      "        [68, 58,  1, 74, 62, 59,  1, 49],\n",
      "        [68, 79,  1, 69, 60,  1, 79, 69],\n",
      "        [72, 73,  1, 58, 69, 77, 68,  1]])\n"
     ]
    }
   ],
   "source": [
    "#This line calculates the index at which the dataset should be split into training and validation sets. \n",
    "#In this case, 80% of the data is used for training.\n",
    "n = int(0.8*len(data))\n",
    "#These lines split the data into training and validation sets based on the index n calculated in the previous step\n",
    "train_data = data[:n]\n",
    "val_data = data[n:]\n",
    "\n",
    "def get_batch(split):\n",
    "    data = train_data if split == 'train' else val_data\n",
    "    ix = torch.randint(len(data) - block_size, (batch_size,))\n",
    "    x = torch.stack([data[i:i+block_size] for i in ix])\n",
    "    y = torch.stack([data[i+1:i+block_size+1] for i in ix])\n",
    "    x, y = x.to(device), y.to(device)\n",
    "    return x, y\n",
    "\n",
    "x, y = get_batch('train')\n",
    "print('inputs:')\n",
    "# print(x.shape)\n",
    "print(x)\n",
    "print('targets:')\n",
    "print(y)"
   ]
  },
  {
   "cell_type": "raw",
   "id": "81f73f4e",
   "metadata": {},
   "source": [
    "# Initialize an embedding layer\n",
    "vocab_size = 1000 #This variable represents the size of the vocabulary, i.e., the total number of unique words or tokens in your dataset.\n",
    "embedding_dim = 100 #Each word in the vocabulary will be represented by a vector of length 100 in the embedding space\n",
    "embedding = nn.Embedding(vocab_size, embedding_dim)# initializes an embedding layer using nn.Embedding. It takes two arguments: vocab_size and embedding_dim. #This layer will map each word index (integer) to its corresponding embedding vector.\n",
    "\n",
    "# Create some input indices #ine creates a tensor containing the indices of the words to be embedded. These indices represent the positions of the words in the vocabulary. For example, 1 might represent the index of the word \"hello,\" 5 might represent the index of the word \"world,\" and so on.\n",
    "input_indices = torch.LongTensor([1, 5, 3, 2])\n",
    "\n",
    "# Apply the embedding layer #performs the embedding lookup operation. It takes the input indices tensor and returns the corresponding embedding vectors for each word index. \n",
    "#The resulting tensor embedded_output will have a shape of (4, 100) because there are 4 input indices and each embedding vector has a dimensionality of 100.\n",
    "embedded_output = embedding(input_indices)\n",
    "\n",
    "# The output will be a tensor of shape (4, 100), where 4 is the number of inputs\n",
    "# and 100 is the dimensionality of the embedding vectors\n",
    "print(embedded_output.shape)\n",
    "#print(embedded_output)"
   ]
  },
  {
   "cell_type": "code",
   "execution_count": 8,
   "id": "8788f020",
   "metadata": {},
   "outputs": [
    {
     "name": "stdout",
     "output_type": "stream",
     "text": [
      "0.024255037307739258\n"
     ]
    }
   ],
   "source": [
    "end_time=time.time()\n",
    "lapsed_time=end_time-start_time\n",
    "print(lapsed_time)"
   ]
  },
  {
   "cell_type": "code",
   "execution_count": null,
   "id": "fadf6bcf",
   "metadata": {},
   "outputs": [],
   "source": []
  }
 ],
 "metadata": {
  "kernelspec": {
   "display_name": "Python 3 (ipykernel)",
   "language": "python",
   "name": "python3"
  },
  "language_info": {
   "codemirror_mode": {
    "name": "ipython",
    "version": 3
   },
   "file_extension": ".py",
   "mimetype": "text/x-python",
   "name": "python",
   "nbconvert_exporter": "python",
   "pygments_lexer": "ipython3",
   "version": "3.11.5"
  }
 },
 "nbformat": 4,
 "nbformat_minor": 5
}
